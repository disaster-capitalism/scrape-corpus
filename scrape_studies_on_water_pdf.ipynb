{
 "cells": [
  {
   "cell_type": "markdown",
   "metadata": {},
   "source": [
    "# Scrape Text from Corpus \"Studies on Water\"\n",
    "\n",
    "In this notebook, we extract the text data from the series of reports \"Studies on Water\" issued by the OECD ([link](https://www.oecd-ilibrary.org/environment/oecd-studies-on-water_22245081)). The 55 reports range from the years 2009 to 2022 and form the corpus for the project \"Markets for Resilience or Disaster Capitalism\". The pdf versions of the reports are not openly available but must be purchased from the OECD library. Therefore, they are not included in this repository. This notebooks contains code to extract the text from the pdf versions, which must be placed in the directory `pdf/`. For text extraction from pdf files, we use the package `pymupdf` (i.e., `fitz`). The extracted text is stored in json files for each report in the directory `studies_on_water_scraped/` (as well as a big json file including all reports called `studies_on_water_scaped.json`). The individual json files contain an object with a key for each top-level chapter (including preface, table of contents, etc.) plus a key for the meta data of the report (e.g., author, date). Each top-level chapter contains an array with each element being a line from the chapter (with subheaders as a separate line). **NOTE**: The extracted text may still be quite messy and probably needs further cleaning in many cases. The json file containing all chapters is an array with each element being a report object as just described."
   ]
  },
  {
   "cell_type": "code",
   "execution_count": 1,
   "metadata": {},
   "outputs": [
    {
     "ename": "ModuleNotFoundError",
     "evalue": "No module named 'fitz'",
     "output_type": "error",
     "traceback": [
      "\u001b[1;31m---------------------------------------------------------------------------\u001b[0m",
      "\u001b[1;31mModuleNotFoundError\u001b[0m                       Traceback (most recent call last)",
      "\u001b[1;32mC:\\Users\\MALTEL~1\\AppData\\Local\\Temp/ipykernel_16576/3334755181.py\u001b[0m in \u001b[0;36m<module>\u001b[1;34m\u001b[0m\n\u001b[0;32m      1\u001b[0m \u001b[1;34m\"\"\" Extract text from pdf files of corpus 'Studies on Water' \"\"\"\u001b[0m\u001b[1;33m\u001b[0m\u001b[1;33m\u001b[0m\u001b[0m\n\u001b[0;32m      2\u001b[0m \u001b[1;33m\u001b[0m\u001b[0m\n\u001b[1;32m----> 3\u001b[1;33m \u001b[1;32mimport\u001b[0m \u001b[0mfitz\u001b[0m\u001b[1;33m\u001b[0m\u001b[1;33m\u001b[0m\u001b[0m\n\u001b[0m\u001b[0;32m      4\u001b[0m \u001b[1;32mimport\u001b[0m \u001b[0mos\u001b[0m\u001b[1;33m\u001b[0m\u001b[1;33m\u001b[0m\u001b[0m\n\u001b[0;32m      5\u001b[0m \u001b[1;32mimport\u001b[0m \u001b[0mjson\u001b[0m\u001b[1;33m\u001b[0m\u001b[1;33m\u001b[0m\u001b[0m\n",
      "\u001b[1;31mModuleNotFoundError\u001b[0m: No module named 'fitz'"
     ]
    }
   ],
   "source": [
    "\"\"\" Extract text from pdf files of corpus 'Studies on Water' \"\"\"\n",
    "\n",
    "import fitz\n",
    "import os\n",
    "import json\n"
   ]
  },
  {
   "cell_type": "code",
   "execution_count": null,
   "metadata": {},
   "outputs": [],
   "source": [
    "PDF_DIR = \"pdfs/\"\n",
    "OUT_DIR = \"studies_on_water_scraped/\"\n"
   ]
  },
  {
   "cell_type": "code",
   "execution_count": null,
   "metadata": {},
   "outputs": [],
   "source": [
    "def check_out_dir(data_dir):\n",
    "    \"\"\" Check if directory for saving scraped text exists, make directory if not \"\"\"\n",
    "    if not os.path.isdir(data_dir):\n",
    "        os.makedirs(data_dir)\n",
    "        print(f\"Created saving directory at {data_dir}\")\n"
   ]
  },
  {
   "cell_type": "code",
   "execution_count": null,
   "metadata": {},
   "outputs": [],
   "source": [
    "check_out_dir(OUT_DIR)\n"
   ]
  },
  {
   "cell_type": "code",
   "execution_count": null,
   "metadata": {},
   "outputs": [],
   "source": [
    "def extract_chapters_from_pdf(filename):\n",
    "    \"\"\" Extracts the chapters of document by looking at the table of contents \"\"\"\n",
    "    title = filename.split(\".\")[0].split(\"/\")[-1]\n",
    "\n",
    "    with fitz.open(filename) as doc:\n",
    "        chapters = {\"meta\": doc.metadata}\n",
    "        chapters[\"meta\"][\"title\"] = title\n",
    "\n",
    "        # Only take chapters on highest level\n",
    "        toc = [ch for ch in doc.get_toc() if ch[0] == 1]\n",
    "\n",
    "        if toc == []: # If no toc available\n",
    "            print(f\"Could not extract toc from {filename}\")\n",
    "            return\n",
    "\n",
    "        for i, ch in enumerate(toc):\n",
    "            start = ch[2]-1  # Look at starting page of chapter\n",
    "\n",
    "            if (i == len(toc)-1):  # If last chapter\n",
    "                stop = doc.page_count-1\n",
    "            else:\n",
    "                stop = toc[i+1][2]-1  # Look at starting page of next chapter\n",
    "            chapter = doc.pages(start, stop, 1)\n",
    "\n",
    "            chapter_text = []\n",
    "\n",
    "            for page in chapter:\n",
    "                lines = page.get_text().split(\"\\n\")\n",
    "                # Skip the first three lines (page header)\n",
    "                for line in lines[3:]:\n",
    "                    chapter_text.append(line)\n",
    "\n",
    "            chapters[ch[1]] = chapter_text\n",
    "            print(f\"Extracted chapter {ch[1]}\")\n",
    "\n",
    "    print(f\"... from {filename}\")\n",
    "\n",
    "    return chapters\n"
   ]
  },
  {
   "cell_type": "code",
   "execution_count": null,
   "metadata": {},
   "outputs": [],
   "source": [
    "def extract_chapters_from_pdf_custom_toc(filename, custom_toc):\n",
    "    \"\"\" Extracts the chapters of document from a custom table of contents \"\"\"\n",
    "    title = filename.split(\".\")[0].split(\"/\")[-1]\n",
    "\n",
    "    with fitz.open(filename) as doc:\n",
    "        chapters = {\"meta\": doc.metadata}\n",
    "        chapters[\"meta\"][\"title\"] = title\n",
    "\n",
    "        # Only take chapters on highest level\n",
    "        toc = [ch for ch in custom_toc]\n",
    "\n",
    "        for i, ch in enumerate(toc):\n",
    "            start = ch[1]-1  # Look at starting page of chapter\n",
    "\n",
    "            if (i == len(toc)-1):  # If last chapter\n",
    "                stop = doc.page_count-1\n",
    "            else:\n",
    "                stop = toc[i+1][1]-1  # Look at starting page of next chapter\n",
    "            chapter = doc.pages(start, stop, 1)\n",
    "\n",
    "            chapter_text = []\n",
    "\n",
    "            for page in chapter:\n",
    "                lines = page.get_text().split(\"\\n\")\n",
    "                # Skip the first three lines (page header)\n",
    "                for line in lines[3:]:\n",
    "                    chapter_text.append(line)\n",
    "\n",
    "            chapters[ch[0]] = chapter_text\n",
    "            print(f\"Extracted chapter {ch[0]}\")\n",
    "\n",
    "    print(f\"... from {filename} with custom toc\")\n",
    "\n",
    "    return chapters"
   ]
  },
  {
   "cell_type": "code",
   "execution_count": null,
   "metadata": {},
   "outputs": [],
   "source": [
    "docs = []\n",
    "\n",
    "with os.scandir(PDF_DIR) as iter:\n",
    "    for i, filename in enumerate(iter):\n",
    "        new_doc = extract_chapters_from_pdf(f\"pdfs/{filename.name}\")\n",
    "        if new_doc is not None:\n",
    "            outfile_name = filename.name.split(\".\")[0]\n",
    "            new_doc[\"meta\"][\"id\"] = i\n",
    "            docs.append(new_doc)\n",
    "            with open(f\"{OUT_DIR}{outfile_name}.json\", \"w\") as outfile:\n",
    "                json.dump(new_doc, outfile)\n"
   ]
  },
  {
   "cell_type": "code",
   "execution_count": null,
   "metadata": {},
   "outputs": [],
   "source": [
    "\"\"\" Define custom toc for report 'Managing Water for All.pdf' because it has no toc available \"\"\"\n",
    "\n",
    "custom_toc = [\n",
    "    [\"Foreword\", 5],\n",
    "    [\"Acknowledgements\", 7],\n",
    "    [\"Background Materials\", 8],\n",
    "    [\"Table of Contents\", 9],\n",
    "    [\"List of Abbreviations and Acronyms\", 13],\n",
    "    [\"Executive Summary\", 15],\n",
    "    [\"Introduction\", 23],\n",
    "    [\"Chapter 1. Setting the Stage\", 25],\n",
    "    [\"Chapter 2. Financing Water and Sanitation Services: Key Challenges and the Way Forward\", 49],\n",
    "    [\"Chapter 3. Water Services: The Central Role of Tariffs\", 75],\n",
    "    [\"Chapter 4. Beyond Money: The Roles of Governments and Private Actors in Water Services\", 107],\n",
    "    [\"Chapter 5. Managing Water Resources in the Agricultural Sector\", 129]\n",
    "]\n"
   ]
  },
  {
   "cell_type": "code",
   "execution_count": null,
   "metadata": {},
   "outputs": [],
   "source": [
    "custom_doc = extract_chapters_from_pdf_custom_toc(f\"{PDF_DIR}Managing Water for All.pdf\", custom_toc)\n",
    "custom_doc[\"meta\"][\"id\"] = 20\n",
    "docs.append(custom_toc)\n",
    "\n",
    "with open(f\"{OUT_DIR}Managing Water for All.json\", \"w\") as outfile:\n",
    "    json.dump(custom_doc, outfile)"
   ]
  },
  {
   "cell_type": "code",
   "execution_count": null,
   "metadata": {},
   "outputs": [],
   "source": [
    "with open(\"studies_on_water_scaped.json\", \"w\") as outfile:\n",
    "    json.dump(docs, outfile)\n"
   ]
  }
 ],
 "metadata": {
  "interpreter": {
   "hash": "0cc7b15a492dda2299baf34ebee1bfe3a93d217a768a9cff88e3a8d8ec025553"
  },
  "kernelspec": {
   "display_name": "Python 3 (ipykernel)",
   "language": "python",
   "name": "python3"
  },
  "language_info": {
   "codemirror_mode": {
    "name": "ipython",
    "version": 3
   },
   "file_extension": ".py",
   "mimetype": "text/x-python",
   "name": "python",
   "nbconvert_exporter": "python",
   "pygments_lexer": "ipython3",
   "version": "3.9.7"
  }
 },
 "nbformat": 4,
 "nbformat_minor": 4
}
